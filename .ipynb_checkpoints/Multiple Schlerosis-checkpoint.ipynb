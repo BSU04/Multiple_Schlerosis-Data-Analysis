{
 "cells": [
  {
   "cell_type": "markdown",
   "id": "87cb624e",
   "metadata": {},
   "source": [
    "## Problem Statement"
   ]
  },
  {
   "cell_type": "markdown",
   "id": "1e36638b",
   "metadata": {},
   "source": [
    "The goal of this machine learning project is to develop a predictive model that can classify patients with CIS into two groups: those who will convert to multiple sclerosis (CDMS - Clinically Definite Multiple Sclerosis) and those who will not (non-CDMS). It addresses the critical need to identify early predictors of MS conversion in CIS patients, which can inform treatment decisions and improve the quality of life for affected individuals. "
   ]
  },
  {
   "cell_type": "markdown",
   "id": "f024de8d",
   "metadata": {},
   "source": [
    "## Multiple Schlerosis?"
   ]
  },
  {
   "cell_type": "markdown",
   "id": "e29f2b4d",
   "metadata": {},
   "source": [
    "Multiple sclerosis is an immune-mediated disorder affecting the central nervous system.\n",
    "\n",
    "The name \"multiple sclerosis\" is short for multiple cerebro-spinal sclerosis, which refers to the numerous glial scars (or sclerae – essentially plaques or lesions) that develop on the white matter of the brain and spinal cord.\""
   ]
  },
  {
   "cell_type": "markdown",
   "id": "f5ed88a5",
   "metadata": {},
   "source": [
    "## Understanding the data"
   ]
  },
  {
   "cell_type": "markdown",
   "id": "2cedcc6a",
   "metadata": {},
   "source": [
    "Conversion Predictors of Clinically Isolated Syndrome(CIS) to Multiple Sclerosis"
   ]
  },
  {
   "cell_type": "markdown",
   "id": "61c59505",
   "metadata": {},
   "source": [
    "In the context of Clinically Isolated Syndrome (CIS) and Multiple Sclerosis (MS), \"conversion\" refers to the transition or progression from CIS to full-blown MS."
   ]
  },
  {
   "cell_type": "markdown",
   "id": "9794b310",
   "metadata": {},
   "source": [
    "Conversion occurs when a person with CIS experiences additional clinical episodes or neurological symptoms that fulfill the criteria for a diagnosis of Multiple Sclerosis. In essence, it means that the individual's condition has evolved from an isolated neurological episode to a more established and ongoing pattern of demyelination and neurological dysfunction characteristic of MS."
   ]
  },
  {
   "cell_type": "markdown",
   "id": "f9fdd9df",
   "metadata": {},
   "source": [
    "- **ID**: Patient identifier (integer)\n",
    "- **Age**: Age of the patient (in years)\n",
    "- **Schooling**: Time the patient spent in school (in years)\n",
    "- **Gender**: \n",
    "  - 1 = Male\n",
    "  - 2 = Female\n",
    "- **Breastfeeding**: \n",
    "  - 1 = Yes\n",
    "  - 2 = No\n",
    "  - 3 = Unknown\n",
    "- **Varicella**: \n",
    "  - 1 = Positive\n",
    "  - 2 = Negative\n",
    "  - 3 = Unknown\n",
    "- **Initial_Symptoms**: \n",
    "  - 1 = Visual\n",
    "  - 2 = Sensory\n",
    "  - 3 = Motor\n",
    "  - 4 = Other\n",
    "  - 5 = Visual and Sensory\n",
    "  - 6 = Visual and Motor\n",
    "  - 7 = Visual and Others\n",
    "  - 8 = Sensory and Motor\n",
    "  - 9 = Sensory and Other\n",
    "  - 10 = Motor and Other\n",
    "  - 11 = Visual, Sensory, and Motor\n",
    "  - 12 = Visual, Sensory, and Other\n",
    "  - 13 = Visual, Motor, and Other\n",
    "  - 14 = Sensory, Motor, and Other\n",
    "  - 15 = Visual, Sensory, Motor, and Other\n",
    "- **Mono _or_Polysymptomatic**: \n",
    "  - 1 = Monosymptomatic\n",
    "  - 2 = Polysymptomatic\n",
    "  - 3 = Unknown\n",
    "- **Oligoclonal_Bands**: \n",
    "  - 0 = Negative\n",
    "  - 1 = Positive\n",
    "  - 2 = Unknown\n",
    "- **LLSSEP**: \n",
    "  - 0 = Negative\n",
    "  - 1 = Positive\n",
    "- **ULSSEP**: \n",
    "  - 0 = Negative\n",
    "  - 1 = Positive\n",
    "- **VEP**: \n",
    "  - 0 = Negative\n",
    "  - 1 = Positive\n",
    "- **BAEP**: \n",
    "  - 0 = Negative\n",
    "  - 1 = Positive\n",
    "- **Periventricular_MRI**: \n",
    "  - 0 = Negative\n",
    "  - 1 = Positive\n",
    "- **Cortical_MRI**: \n",
    "  - 0 = Negative\n",
    "  - 1 = Positive\n",
    "- **Infratentorial_MRI**: \n",
    "  - 0 = Negative\n",
    "  - 1 = Positive\n",
    "- **Spinal_Cord_MRI**: \n",
    "  - 0 = Negative\n",
    "  - 1 = Positive\n",
    "- **initial_EDSS**: Initial Expanded Disability Status Scale (EDSS) score (used to quantify disability in multiple sclerosis)\n",
    "- **final_EDSS**: Final Expanded Disability Status Scale (EDSS) score (used to quantify disability in multiple sclerosis)\n",
    "- **Group**: \n",
    "  - 1 = CDMS\n",
    "  - 2 = Non-CDMS\n"
   ]
  },
  {
   "cell_type": "markdown",
   "id": "e7f331d9",
   "metadata": {},
   "source": [
    "### Libraries"
   ]
  },
  {
   "cell_type": "code",
   "execution_count": 1,
   "id": "fb98696d",
   "metadata": {},
   "outputs": [],
   "source": [
    "import pandas as pd\n",
    "import numpy as np\n",
    "import matplotlib.pyplot as plt\n",
    "import seaborn as sns\n",
    "%matplotlib inline\n",
    "pd.reset_option('display.max_rows')"
   ]
  },
  {
   "cell_type": "code",
   "execution_count": 2,
   "id": "5ec25827",
   "metadata": {},
   "outputs": [],
   "source": [
    "df = pd.read_csv(\"multiple sclerosis.csv\")"
   ]
  },
  {
   "cell_type": "code",
   "execution_count": 3,
   "id": "0c7a2e85",
   "metadata": {
    "scrolled": true
   },
   "outputs": [
    {
     "data": {
      "text/plain": [
       "(273, 20)"
      ]
     },
     "execution_count": 3,
     "metadata": {},
     "output_type": "execute_result"
    }
   ],
   "source": [
    "df.shape"
   ]
  },
  {
   "cell_type": "code",
   "execution_count": 4,
   "id": "769c934d",
   "metadata": {
    "scrolled": true
   },
   "outputs": [
    {
     "data": {
      "text/html": [
       "<div>\n",
       "<style scoped>\n",
       "    .dataframe tbody tr th:only-of-type {\n",
       "        vertical-align: middle;\n",
       "    }\n",
       "\n",
       "    .dataframe tbody tr th {\n",
       "        vertical-align: top;\n",
       "    }\n",
       "\n",
       "    .dataframe thead th {\n",
       "        text-align: right;\n",
       "    }\n",
       "</style>\n",
       "<table border=\"1\" class=\"dataframe\">\n",
       "  <thead>\n",
       "    <tr style=\"text-align: right;\">\n",
       "      <th></th>\n",
       "      <th>Unnamed: 0</th>\n",
       "      <th>Gender</th>\n",
       "      <th>Age</th>\n",
       "      <th>Schooling</th>\n",
       "      <th>Breastfeeding</th>\n",
       "      <th>Varicella</th>\n",
       "      <th>Initial_Symptom</th>\n",
       "      <th>Mono_or_Polysymptomatic</th>\n",
       "      <th>Oligoclonal_Bands</th>\n",
       "      <th>LLSSEP</th>\n",
       "      <th>ULSSEP</th>\n",
       "      <th>VEP</th>\n",
       "      <th>BAEP</th>\n",
       "      <th>Periventricular_MRI</th>\n",
       "      <th>Cortical_MRI</th>\n",
       "      <th>Infratentorial_MRI</th>\n",
       "      <th>Spinal_Cord_MRI</th>\n",
       "      <th>Initial_EDSS</th>\n",
       "      <th>Final_EDSS</th>\n",
       "      <th>group</th>\n",
       "    </tr>\n",
       "  </thead>\n",
       "  <tbody>\n",
       "    <tr>\n",
       "      <th>0</th>\n",
       "      <td>0</td>\n",
       "      <td>1</td>\n",
       "      <td>34</td>\n",
       "      <td>20.0</td>\n",
       "      <td>1</td>\n",
       "      <td>1</td>\n",
       "      <td>2.0</td>\n",
       "      <td>1</td>\n",
       "      <td>0</td>\n",
       "      <td>1</td>\n",
       "      <td>1</td>\n",
       "      <td>0</td>\n",
       "      <td>0</td>\n",
       "      <td>0</td>\n",
       "      <td>1</td>\n",
       "      <td>0</td>\n",
       "      <td>1</td>\n",
       "      <td>1.0</td>\n",
       "      <td>1.0</td>\n",
       "      <td>1</td>\n",
       "    </tr>\n",
       "    <tr>\n",
       "      <th>1</th>\n",
       "      <td>1</td>\n",
       "      <td>1</td>\n",
       "      <td>61</td>\n",
       "      <td>25.0</td>\n",
       "      <td>3</td>\n",
       "      <td>2</td>\n",
       "      <td>10.0</td>\n",
       "      <td>2</td>\n",
       "      <td>1</td>\n",
       "      <td>1</td>\n",
       "      <td>0</td>\n",
       "      <td>1</td>\n",
       "      <td>0</td>\n",
       "      <td>0</td>\n",
       "      <td>0</td>\n",
       "      <td>0</td>\n",
       "      <td>1</td>\n",
       "      <td>2.0</td>\n",
       "      <td>2.0</td>\n",
       "      <td>1</td>\n",
       "    </tr>\n",
       "    <tr>\n",
       "      <th>2</th>\n",
       "      <td>2</td>\n",
       "      <td>1</td>\n",
       "      <td>22</td>\n",
       "      <td>20.0</td>\n",
       "      <td>3</td>\n",
       "      <td>1</td>\n",
       "      <td>3.0</td>\n",
       "      <td>1</td>\n",
       "      <td>1</td>\n",
       "      <td>0</td>\n",
       "      <td>0</td>\n",
       "      <td>0</td>\n",
       "      <td>0</td>\n",
       "      <td>0</td>\n",
       "      <td>1</td>\n",
       "      <td>0</td>\n",
       "      <td>0</td>\n",
       "      <td>1.0</td>\n",
       "      <td>1.0</td>\n",
       "      <td>1</td>\n",
       "    </tr>\n",
       "    <tr>\n",
       "      <th>3</th>\n",
       "      <td>3</td>\n",
       "      <td>2</td>\n",
       "      <td>41</td>\n",
       "      <td>15.0</td>\n",
       "      <td>1</td>\n",
       "      <td>1</td>\n",
       "      <td>7.0</td>\n",
       "      <td>2</td>\n",
       "      <td>1</td>\n",
       "      <td>0</td>\n",
       "      <td>1</td>\n",
       "      <td>1</td>\n",
       "      <td>0</td>\n",
       "      <td>1</td>\n",
       "      <td>1</td>\n",
       "      <td>0</td>\n",
       "      <td>0</td>\n",
       "      <td>1.0</td>\n",
       "      <td>1.0</td>\n",
       "      <td>1</td>\n",
       "    </tr>\n",
       "    <tr>\n",
       "      <th>4</th>\n",
       "      <td>4</td>\n",
       "      <td>2</td>\n",
       "      <td>34</td>\n",
       "      <td>20.0</td>\n",
       "      <td>2</td>\n",
       "      <td>1</td>\n",
       "      <td>6.0</td>\n",
       "      <td>2</td>\n",
       "      <td>0</td>\n",
       "      <td>1</td>\n",
       "      <td>0</td>\n",
       "      <td>0</td>\n",
       "      <td>0</td>\n",
       "      <td>1</td>\n",
       "      <td>0</td>\n",
       "      <td>0</td>\n",
       "      <td>0</td>\n",
       "      <td>1.0</td>\n",
       "      <td>1.0</td>\n",
       "      <td>1</td>\n",
       "    </tr>\n",
       "  </tbody>\n",
       "</table>\n",
       "</div>"
      ],
      "text/plain": [
       "   Unnamed: 0  Gender  Age  Schooling  Breastfeeding  Varicella  \\\n",
       "0           0       1   34       20.0              1          1   \n",
       "1           1       1   61       25.0              3          2   \n",
       "2           2       1   22       20.0              3          1   \n",
       "3           3       2   41       15.0              1          1   \n",
       "4           4       2   34       20.0              2          1   \n",
       "\n",
       "   Initial_Symptom  Mono_or_Polysymptomatic  Oligoclonal_Bands  LLSSEP  \\\n",
       "0              2.0                        1                  0       1   \n",
       "1             10.0                        2                  1       1   \n",
       "2              3.0                        1                  1       0   \n",
       "3              7.0                        2                  1       0   \n",
       "4              6.0                        2                  0       1   \n",
       "\n",
       "   ULSSEP  VEP  BAEP  Periventricular_MRI  Cortical_MRI  Infratentorial_MRI  \\\n",
       "0       1    0     0                    0             1                   0   \n",
       "1       0    1     0                    0             0                   0   \n",
       "2       0    0     0                    0             1                   0   \n",
       "3       1    1     0                    1             1                   0   \n",
       "4       0    0     0                    1             0                   0   \n",
       "\n",
       "   Spinal_Cord_MRI  Initial_EDSS  Final_EDSS  group  \n",
       "0                1           1.0         1.0      1  \n",
       "1                1           2.0         2.0      1  \n",
       "2                0           1.0         1.0      1  \n",
       "3                0           1.0         1.0      1  \n",
       "4                0           1.0         1.0      1  "
      ]
     },
     "execution_count": 4,
     "metadata": {},
     "output_type": "execute_result"
    }
   ],
   "source": [
    "df.head()"
   ]
  },
  {
   "cell_type": "code",
   "execution_count": 5,
   "id": "3fe5ea1b",
   "metadata": {},
   "outputs": [
    {
     "data": {
      "text/html": [
       "<div>\n",
       "<style scoped>\n",
       "    .dataframe tbody tr th:only-of-type {\n",
       "        vertical-align: middle;\n",
       "    }\n",
       "\n",
       "    .dataframe tbody tr th {\n",
       "        vertical-align: top;\n",
       "    }\n",
       "\n",
       "    .dataframe thead th {\n",
       "        text-align: right;\n",
       "    }\n",
       "</style>\n",
       "<table border=\"1\" class=\"dataframe\">\n",
       "  <thead>\n",
       "    <tr style=\"text-align: right;\">\n",
       "      <th></th>\n",
       "      <th>Unnamed: 0</th>\n",
       "      <th>Gender</th>\n",
       "      <th>Age</th>\n",
       "      <th>Schooling</th>\n",
       "      <th>Breastfeeding</th>\n",
       "      <th>Varicella</th>\n",
       "      <th>Initial_Symptom</th>\n",
       "      <th>Mono_or_Polysymptomatic</th>\n",
       "      <th>Oligoclonal_Bands</th>\n",
       "      <th>LLSSEP</th>\n",
       "      <th>ULSSEP</th>\n",
       "      <th>VEP</th>\n",
       "      <th>BAEP</th>\n",
       "      <th>Periventricular_MRI</th>\n",
       "      <th>Cortical_MRI</th>\n",
       "      <th>Infratentorial_MRI</th>\n",
       "      <th>Spinal_Cord_MRI</th>\n",
       "      <th>Initial_EDSS</th>\n",
       "      <th>Final_EDSS</th>\n",
       "      <th>group</th>\n",
       "    </tr>\n",
       "  </thead>\n",
       "  <tbody>\n",
       "    <tr>\n",
       "      <th>268</th>\n",
       "      <td>268</td>\n",
       "      <td>2</td>\n",
       "      <td>31</td>\n",
       "      <td>8.0</td>\n",
       "      <td>3</td>\n",
       "      <td>1</td>\n",
       "      <td>9.0</td>\n",
       "      <td>2</td>\n",
       "      <td>0</td>\n",
       "      <td>0</td>\n",
       "      <td>0</td>\n",
       "      <td>0</td>\n",
       "      <td>0</td>\n",
       "      <td>0</td>\n",
       "      <td>0</td>\n",
       "      <td>0</td>\n",
       "      <td>0</td>\n",
       "      <td>NaN</td>\n",
       "      <td>NaN</td>\n",
       "      <td>2</td>\n",
       "    </tr>\n",
       "    <tr>\n",
       "      <th>269</th>\n",
       "      <td>269</td>\n",
       "      <td>1</td>\n",
       "      <td>21</td>\n",
       "      <td>15.0</td>\n",
       "      <td>3</td>\n",
       "      <td>3</td>\n",
       "      <td>5.0</td>\n",
       "      <td>2</td>\n",
       "      <td>1</td>\n",
       "      <td>0</td>\n",
       "      <td>0</td>\n",
       "      <td>0</td>\n",
       "      <td>0</td>\n",
       "      <td>0</td>\n",
       "      <td>0</td>\n",
       "      <td>0</td>\n",
       "      <td>1</td>\n",
       "      <td>NaN</td>\n",
       "      <td>NaN</td>\n",
       "      <td>2</td>\n",
       "    </tr>\n",
       "    <tr>\n",
       "      <th>270</th>\n",
       "      <td>270</td>\n",
       "      <td>2</td>\n",
       "      <td>19</td>\n",
       "      <td>12.0</td>\n",
       "      <td>3</td>\n",
       "      <td>3</td>\n",
       "      <td>13.0</td>\n",
       "      <td>2</td>\n",
       "      <td>0</td>\n",
       "      <td>1</td>\n",
       "      <td>1</td>\n",
       "      <td>1</td>\n",
       "      <td>0</td>\n",
       "      <td>0</td>\n",
       "      <td>0</td>\n",
       "      <td>0</td>\n",
       "      <td>1</td>\n",
       "      <td>NaN</td>\n",
       "      <td>NaN</td>\n",
       "      <td>2</td>\n",
       "    </tr>\n",
       "    <tr>\n",
       "      <th>271</th>\n",
       "      <td>271</td>\n",
       "      <td>2</td>\n",
       "      <td>32</td>\n",
       "      <td>15.0</td>\n",
       "      <td>3</td>\n",
       "      <td>3</td>\n",
       "      <td>15.0</td>\n",
       "      <td>2</td>\n",
       "      <td>1</td>\n",
       "      <td>1</td>\n",
       "      <td>1</td>\n",
       "      <td>1</td>\n",
       "      <td>0</td>\n",
       "      <td>1</td>\n",
       "      <td>1</td>\n",
       "      <td>1</td>\n",
       "      <td>0</td>\n",
       "      <td>NaN</td>\n",
       "      <td>NaN</td>\n",
       "      <td>2</td>\n",
       "    </tr>\n",
       "    <tr>\n",
       "      <th>272</th>\n",
       "      <td>272</td>\n",
       "      <td>2</td>\n",
       "      <td>77</td>\n",
       "      <td>6.0</td>\n",
       "      <td>3</td>\n",
       "      <td>3</td>\n",
       "      <td>2.0</td>\n",
       "      <td>1</td>\n",
       "      <td>0</td>\n",
       "      <td>0</td>\n",
       "      <td>1</td>\n",
       "      <td>0</td>\n",
       "      <td>0</td>\n",
       "      <td>0</td>\n",
       "      <td>0</td>\n",
       "      <td>0</td>\n",
       "      <td>0</td>\n",
       "      <td>NaN</td>\n",
       "      <td>NaN</td>\n",
       "      <td>2</td>\n",
       "    </tr>\n",
       "  </tbody>\n",
       "</table>\n",
       "</div>"
      ],
      "text/plain": [
       "     Unnamed: 0  Gender  Age  Schooling  Breastfeeding  Varicella  \\\n",
       "268         268       2   31        8.0              3          1   \n",
       "269         269       1   21       15.0              3          3   \n",
       "270         270       2   19       12.0              3          3   \n",
       "271         271       2   32       15.0              3          3   \n",
       "272         272       2   77        6.0              3          3   \n",
       "\n",
       "     Initial_Symptom  Mono_or_Polysymptomatic  Oligoclonal_Bands  LLSSEP  \\\n",
       "268              9.0                        2                  0       0   \n",
       "269              5.0                        2                  1       0   \n",
       "270             13.0                        2                  0       1   \n",
       "271             15.0                        2                  1       1   \n",
       "272              2.0                        1                  0       0   \n",
       "\n",
       "     ULSSEP  VEP  BAEP  Periventricular_MRI  Cortical_MRI  Infratentorial_MRI  \\\n",
       "268       0    0     0                    0             0                   0   \n",
       "269       0    0     0                    0             0                   0   \n",
       "270       1    1     0                    0             0                   0   \n",
       "271       1    1     0                    1             1                   1   \n",
       "272       1    0     0                    0             0                   0   \n",
       "\n",
       "     Spinal_Cord_MRI  Initial_EDSS  Final_EDSS  group  \n",
       "268                0           NaN         NaN      2  \n",
       "269                1           NaN         NaN      2  \n",
       "270                1           NaN         NaN      2  \n",
       "271                0           NaN         NaN      2  \n",
       "272                0           NaN         NaN      2  "
      ]
     },
     "execution_count": 5,
     "metadata": {},
     "output_type": "execute_result"
    }
   ],
   "source": [
    "df.tail()"
   ]
  },
  {
   "cell_type": "markdown",
   "id": "8bbc8895",
   "metadata": {},
   "source": [
    "## Terms"
   ]
  },
  {
   "cell_type": "markdown",
   "id": "92399221",
   "metadata": {},
   "source": [
    "**CSF** is the clear fluid that flows in the space around the spinal cord and brain. Oligoclonal bands are proteins called immunoglobulins.\n",
    "\n",
    "**Varicella** : Another name for Chickenpox, or chicken pox, is a highly contagious disease caused by the initial infection with varicella zoster virus (VZV), a member of the herpesvirus family.\n",
    "\n",
    "**BAEP**: In human neuroanatomy, brainstem auditory evoked potentials (BAEPs), also called brainstem auditory evoked responses (BAERs), are very small auditory evoked potentials in response to an auditory stimulus, which are recorded by electrodes placed on the scalp.\n",
    "\n",
    "**VEP**: Visual evoked potential (VEP) is an evoked potential elicited by presenting light flash or pattern stimulus which can be used to confirm damage to visual pathway including retina, optic nerve, optic chiasm, optic radiations, and occipital cortex.\n",
    "\n",
    "**Oligoclonal bands**: Oligoclonal bands (OCBs) are bands of immunoglobulins that are seen when a patient's blood serum, or cerebrospinal fluid (CSF) is analyzed. They are used in the diagnosis of various neurological and blood diseases. Oligoclonal bands are present in the CSF of more than 95% of patients with clinically definite multiple sclerosis.\n",
    "\n",
    "**SSEP** : Somatosensory evoked potentials (SSEP) are recorded from the central nervous system following stimulation of peripheral nerves. ULSSEP (upper limb SSEP), LLSSEP (lower limb SSEP)\n",
    "\n",
    "**EDSS**: The Expanded Disability Status Scale (EDSS) is a method of quantifying disability in multiple sclerosis and monitoring changes in the level of disability over time. It is widely used in clinical trials and in the assessment of people with MS. 2\n"
   ]
  },
  {
   "cell_type": "markdown",
   "id": "a2c87a29",
   "metadata": {},
   "source": [
    "## Preprocessing"
   ]
  },
  {
   "cell_type": "markdown",
   "id": "168134af",
   "metadata": {},
   "source": [
    "**Datatypes**"
   ]
  },
  {
   "cell_type": "code",
   "execution_count": 6,
   "id": "d941d4ef",
   "metadata": {},
   "outputs": [
    {
     "name": "stdout",
     "output_type": "stream",
     "text": [
      "<class 'pandas.core.frame.DataFrame'>\n",
      "RangeIndex: 273 entries, 0 to 272\n",
      "Data columns (total 20 columns):\n",
      " #   Column                   Non-Null Count  Dtype  \n",
      "---  ------                   --------------  -----  \n",
      " 0   Unnamed: 0               273 non-null    int64  \n",
      " 1   Gender                   273 non-null    int64  \n",
      " 2   Age                      273 non-null    int64  \n",
      " 3   Schooling                272 non-null    float64\n",
      " 4   Breastfeeding            273 non-null    int64  \n",
      " 5   Varicella                273 non-null    int64  \n",
      " 6   Initial_Symptom          272 non-null    float64\n",
      " 7   Mono_or_Polysymptomatic  273 non-null    int64  \n",
      " 8   Oligoclonal_Bands        273 non-null    int64  \n",
      " 9   LLSSEP                   273 non-null    int64  \n",
      " 10  ULSSEP                   273 non-null    int64  \n",
      " 11  VEP                      273 non-null    int64  \n",
      " 12  BAEP                     273 non-null    int64  \n",
      " 13  Periventricular_MRI      273 non-null    int64  \n",
      " 14  Cortical_MRI             273 non-null    int64  \n",
      " 15  Infratentorial_MRI       273 non-null    int64  \n",
      " 16  Spinal_Cord_MRI          273 non-null    int64  \n",
      " 17  Initial_EDSS             125 non-null    float64\n",
      " 18  Final_EDSS               125 non-null    float64\n",
      " 19  group                    273 non-null    int64  \n",
      "dtypes: float64(4), int64(16)\n",
      "memory usage: 42.8 KB\n"
     ]
    }
   ],
   "source": [
    "df.info()"
   ]
  },
  {
   "cell_type": "code",
   "execution_count": 7,
   "id": "45f1a5cb",
   "metadata": {},
   "outputs": [
    {
     "data": {
      "text/plain": [
       "Unnamed: 0                   0\n",
       "Gender                       0\n",
       "Age                          0\n",
       "Schooling                    1\n",
       "Breastfeeding                0\n",
       "Varicella                    0\n",
       "Initial_Symptom              1\n",
       "Mono_or_Polysymptomatic      0\n",
       "Oligoclonal_Bands            0\n",
       "LLSSEP                       0\n",
       "ULSSEP                       0\n",
       "VEP                          0\n",
       "BAEP                         0\n",
       "Periventricular_MRI          0\n",
       "Cortical_MRI                 0\n",
       "Infratentorial_MRI           0\n",
       "Spinal_Cord_MRI              0\n",
       "Initial_EDSS               148\n",
       "Final_EDSS                 148\n",
       "group                        0\n",
       "dtype: int64"
      ]
     },
     "execution_count": 7,
     "metadata": {},
     "output_type": "execute_result"
    }
   ],
   "source": [
    "df.isnull().sum()"
   ]
  },
  {
   "cell_type": "markdown",
   "id": "3d562f3e",
   "metadata": {},
   "source": [
    "### Missing Values"
   ]
  },
  {
   "cell_type": "markdown",
   "id": "db655227",
   "metadata": {},
   "source": [
    "**1) Unnamed: 0**"
   ]
  },
  {
   "cell_type": "code",
   "execution_count": 8,
   "id": "134871ef",
   "metadata": {},
   "outputs": [],
   "source": [
    "cols = 'Unnamed: 0'\n",
    "df = df.drop(columns=cols)"
   ]
  },
  {
   "cell_type": "code",
   "execution_count": 9,
   "id": "23eefb0f",
   "metadata": {},
   "outputs": [
    {
     "data": {
      "text/html": [
       "<div>\n",
       "<style scoped>\n",
       "    .dataframe tbody tr th:only-of-type {\n",
       "        vertical-align: middle;\n",
       "    }\n",
       "\n",
       "    .dataframe tbody tr th {\n",
       "        vertical-align: top;\n",
       "    }\n",
       "\n",
       "    .dataframe thead th {\n",
       "        text-align: right;\n",
       "    }\n",
       "</style>\n",
       "<table border=\"1\" class=\"dataframe\">\n",
       "  <thead>\n",
       "    <tr style=\"text-align: right;\">\n",
       "      <th></th>\n",
       "      <th>Gender</th>\n",
       "      <th>Age</th>\n",
       "      <th>Schooling</th>\n",
       "      <th>Breastfeeding</th>\n",
       "      <th>Varicella</th>\n",
       "      <th>Initial_Symptom</th>\n",
       "      <th>Mono_or_Polysymptomatic</th>\n",
       "      <th>Oligoclonal_Bands</th>\n",
       "      <th>LLSSEP</th>\n",
       "      <th>ULSSEP</th>\n",
       "      <th>VEP</th>\n",
       "      <th>BAEP</th>\n",
       "      <th>Periventricular_MRI</th>\n",
       "      <th>Cortical_MRI</th>\n",
       "      <th>Infratentorial_MRI</th>\n",
       "      <th>Spinal_Cord_MRI</th>\n",
       "      <th>Initial_EDSS</th>\n",
       "      <th>Final_EDSS</th>\n",
       "      <th>group</th>\n",
       "    </tr>\n",
       "  </thead>\n",
       "  <tbody>\n",
       "    <tr>\n",
       "      <th>0</th>\n",
       "      <td>1</td>\n",
       "      <td>34</td>\n",
       "      <td>20.0</td>\n",
       "      <td>1</td>\n",
       "      <td>1</td>\n",
       "      <td>2.0</td>\n",
       "      <td>1</td>\n",
       "      <td>0</td>\n",
       "      <td>1</td>\n",
       "      <td>1</td>\n",
       "      <td>0</td>\n",
       "      <td>0</td>\n",
       "      <td>0</td>\n",
       "      <td>1</td>\n",
       "      <td>0</td>\n",
       "      <td>1</td>\n",
       "      <td>1.0</td>\n",
       "      <td>1.0</td>\n",
       "      <td>1</td>\n",
       "    </tr>\n",
       "    <tr>\n",
       "      <th>1</th>\n",
       "      <td>1</td>\n",
       "      <td>61</td>\n",
       "      <td>25.0</td>\n",
       "      <td>3</td>\n",
       "      <td>2</td>\n",
       "      <td>10.0</td>\n",
       "      <td>2</td>\n",
       "      <td>1</td>\n",
       "      <td>1</td>\n",
       "      <td>0</td>\n",
       "      <td>1</td>\n",
       "      <td>0</td>\n",
       "      <td>0</td>\n",
       "      <td>0</td>\n",
       "      <td>0</td>\n",
       "      <td>1</td>\n",
       "      <td>2.0</td>\n",
       "      <td>2.0</td>\n",
       "      <td>1</td>\n",
       "    </tr>\n",
       "    <tr>\n",
       "      <th>2</th>\n",
       "      <td>1</td>\n",
       "      <td>22</td>\n",
       "      <td>20.0</td>\n",
       "      <td>3</td>\n",
       "      <td>1</td>\n",
       "      <td>3.0</td>\n",
       "      <td>1</td>\n",
       "      <td>1</td>\n",
       "      <td>0</td>\n",
       "      <td>0</td>\n",
       "      <td>0</td>\n",
       "      <td>0</td>\n",
       "      <td>0</td>\n",
       "      <td>1</td>\n",
       "      <td>0</td>\n",
       "      <td>0</td>\n",
       "      <td>1.0</td>\n",
       "      <td>1.0</td>\n",
       "      <td>1</td>\n",
       "    </tr>\n",
       "    <tr>\n",
       "      <th>3</th>\n",
       "      <td>2</td>\n",
       "      <td>41</td>\n",
       "      <td>15.0</td>\n",
       "      <td>1</td>\n",
       "      <td>1</td>\n",
       "      <td>7.0</td>\n",
       "      <td>2</td>\n",
       "      <td>1</td>\n",
       "      <td>0</td>\n",
       "      <td>1</td>\n",
       "      <td>1</td>\n",
       "      <td>0</td>\n",
       "      <td>1</td>\n",
       "      <td>1</td>\n",
       "      <td>0</td>\n",
       "      <td>0</td>\n",
       "      <td>1.0</td>\n",
       "      <td>1.0</td>\n",
       "      <td>1</td>\n",
       "    </tr>\n",
       "    <tr>\n",
       "      <th>4</th>\n",
       "      <td>2</td>\n",
       "      <td>34</td>\n",
       "      <td>20.0</td>\n",
       "      <td>2</td>\n",
       "      <td>1</td>\n",
       "      <td>6.0</td>\n",
       "      <td>2</td>\n",
       "      <td>0</td>\n",
       "      <td>1</td>\n",
       "      <td>0</td>\n",
       "      <td>0</td>\n",
       "      <td>0</td>\n",
       "      <td>1</td>\n",
       "      <td>0</td>\n",
       "      <td>0</td>\n",
       "      <td>0</td>\n",
       "      <td>1.0</td>\n",
       "      <td>1.0</td>\n",
       "      <td>1</td>\n",
       "    </tr>\n",
       "  </tbody>\n",
       "</table>\n",
       "</div>"
      ],
      "text/plain": [
       "   Gender  Age  Schooling  Breastfeeding  Varicella  Initial_Symptom  \\\n",
       "0       1   34       20.0              1          1              2.0   \n",
       "1       1   61       25.0              3          2             10.0   \n",
       "2       1   22       20.0              3          1              3.0   \n",
       "3       2   41       15.0              1          1              7.0   \n",
       "4       2   34       20.0              2          1              6.0   \n",
       "\n",
       "   Mono_or_Polysymptomatic  Oligoclonal_Bands  LLSSEP  ULSSEP  VEP  BAEP  \\\n",
       "0                        1                  0       1       1    0     0   \n",
       "1                        2                  1       1       0    1     0   \n",
       "2                        1                  1       0       0    0     0   \n",
       "3                        2                  1       0       1    1     0   \n",
       "4                        2                  0       1       0    0     0   \n",
       "\n",
       "   Periventricular_MRI  Cortical_MRI  Infratentorial_MRI  Spinal_Cord_MRI  \\\n",
       "0                    0             1                   0                1   \n",
       "1                    0             0                   0                1   \n",
       "2                    0             1                   0                0   \n",
       "3                    1             1                   0                0   \n",
       "4                    1             0                   0                0   \n",
       "\n",
       "   Initial_EDSS  Final_EDSS  group  \n",
       "0           1.0         1.0      1  \n",
       "1           2.0         2.0      1  \n",
       "2           1.0         1.0      1  \n",
       "3           1.0         1.0      1  \n",
       "4           1.0         1.0      1  "
      ]
     },
     "execution_count": 9,
     "metadata": {},
     "output_type": "execute_result"
    }
   ],
   "source": [
    "df.head()"
   ]
  },
  {
   "cell_type": "markdown",
   "id": "880f951b",
   "metadata": {},
   "source": [
    "Function `missing_values` to observe the NaN in each columns"
   ]
  },
  {
   "cell_type": "code",
   "execution_count": 10,
   "id": "88f4c804",
   "metadata": {},
   "outputs": [],
   "source": [
    "def missing_values(dataframe, column_name):\n",
    "    missing_rows = dataframe[dataframe[column_name].isnull()]\n",
    "    return missing_rows"
   ]
  },
  {
   "cell_type": "markdown",
   "id": "19f9c206",
   "metadata": {},
   "source": [
    "**2) Schooling**"
   ]
  },
  {
   "cell_type": "code",
   "execution_count": 11,
   "id": "ed05915f",
   "metadata": {
    "scrolled": false
   },
   "outputs": [
    {
     "data": {
      "text/html": [
       "<div>\n",
       "<style scoped>\n",
       "    .dataframe tbody tr th:only-of-type {\n",
       "        vertical-align: middle;\n",
       "    }\n",
       "\n",
       "    .dataframe tbody tr th {\n",
       "        vertical-align: top;\n",
       "    }\n",
       "\n",
       "    .dataframe thead th {\n",
       "        text-align: right;\n",
       "    }\n",
       "</style>\n",
       "<table border=\"1\" class=\"dataframe\">\n",
       "  <thead>\n",
       "    <tr style=\"text-align: right;\">\n",
       "      <th></th>\n",
       "      <th>Gender</th>\n",
       "      <th>Age</th>\n",
       "      <th>Schooling</th>\n",
       "      <th>Breastfeeding</th>\n",
       "      <th>Varicella</th>\n",
       "      <th>Initial_Symptom</th>\n",
       "      <th>Mono_or_Polysymptomatic</th>\n",
       "      <th>Oligoclonal_Bands</th>\n",
       "      <th>LLSSEP</th>\n",
       "      <th>ULSSEP</th>\n",
       "      <th>VEP</th>\n",
       "      <th>BAEP</th>\n",
       "      <th>Periventricular_MRI</th>\n",
       "      <th>Cortical_MRI</th>\n",
       "      <th>Infratentorial_MRI</th>\n",
       "      <th>Spinal_Cord_MRI</th>\n",
       "      <th>Initial_EDSS</th>\n",
       "      <th>Final_EDSS</th>\n",
       "      <th>group</th>\n",
       "    </tr>\n",
       "  </thead>\n",
       "  <tbody>\n",
       "    <tr>\n",
       "      <th>204</th>\n",
       "      <td>2</td>\n",
       "      <td>38</td>\n",
       "      <td>NaN</td>\n",
       "      <td>3</td>\n",
       "      <td>3</td>\n",
       "      <td>2.0</td>\n",
       "      <td>2</td>\n",
       "      <td>1</td>\n",
       "      <td>1</td>\n",
       "      <td>1</td>\n",
       "      <td>0</td>\n",
       "      <td>0</td>\n",
       "      <td>0</td>\n",
       "      <td>0</td>\n",
       "      <td>1</td>\n",
       "      <td>1</td>\n",
       "      <td>NaN</td>\n",
       "      <td>NaN</td>\n",
       "      <td>2</td>\n",
       "    </tr>\n",
       "  </tbody>\n",
       "</table>\n",
       "</div>"
      ],
      "text/plain": [
       "     Gender  Age  Schooling  Breastfeeding  Varicella  Initial_Symptom  \\\n",
       "204       2   38        NaN              3          3              2.0   \n",
       "\n",
       "     Mono_or_Polysymptomatic  Oligoclonal_Bands  LLSSEP  ULSSEP  VEP  BAEP  \\\n",
       "204                        2                  1       1       1    0     0   \n",
       "\n",
       "     Periventricular_MRI  Cortical_MRI  Infratentorial_MRI  Spinal_Cord_MRI  \\\n",
       "204                    0             0                   1                1   \n",
       "\n",
       "     Initial_EDSS  Final_EDSS  group  \n",
       "204           NaN         NaN      2  "
      ]
     },
     "execution_count": 11,
     "metadata": {},
     "output_type": "execute_result"
    }
   ],
   "source": [
    "schooling = missing_values(df, 'Schooling')\n",
    "schooling"
   ]
  },
  {
   "cell_type": "markdown",
   "id": "fc28bdf1",
   "metadata": {},
   "source": [
    "Calculating `Mean` for the following column"
   ]
  },
  {
   "cell_type": "code",
   "execution_count": 12,
   "id": "6886927e",
   "metadata": {},
   "outputs": [
    {
     "name": "stdout",
     "output_type": "stream",
     "text": [
      "Mean Schooling: 15.176470588235293\n"
     ]
    }
   ],
   "source": [
    "mean = df['Schooling'].mean()\n",
    "\n",
    "print(f\"Mean {'Schooling'}: {mean}\")"
   ]
  },
  {
   "cell_type": "markdown",
   "id": "159268f8",
   "metadata": {},
   "source": [
    "`Imputing the row`"
   ]
  },
  {
   "cell_type": "code",
   "execution_count": 13,
   "id": "22dd4d2d",
   "metadata": {},
   "outputs": [],
   "source": [
    "df[\"Schooling\"].fillna(mean, inplace=True)"
   ]
  },
  {
   "cell_type": "code",
   "execution_count": 14,
   "id": "d7ec8aa8",
   "metadata": {},
   "outputs": [
    {
     "data": {
      "text/plain": [
       "15.176470588235293"
      ]
     },
     "execution_count": 14,
     "metadata": {},
     "output_type": "execute_result"
    }
   ],
   "source": [
    "col = 'Schooling'\n",
    "row = 204\n",
    "column_value = df.loc[row, col]\n",
    "column_value"
   ]
  },
  {
   "cell_type": "markdown",
   "id": "33e0a02f",
   "metadata": {},
   "source": [
    "**3) Initial_Symptom**"
   ]
  },
  {
   "cell_type": "code",
   "execution_count": 15,
   "id": "fabeffe5",
   "metadata": {},
   "outputs": [
    {
     "data": {
      "text/html": [
       "<div>\n",
       "<style scoped>\n",
       "    .dataframe tbody tr th:only-of-type {\n",
       "        vertical-align: middle;\n",
       "    }\n",
       "\n",
       "    .dataframe tbody tr th {\n",
       "        vertical-align: top;\n",
       "    }\n",
       "\n",
       "    .dataframe thead th {\n",
       "        text-align: right;\n",
       "    }\n",
       "</style>\n",
       "<table border=\"1\" class=\"dataframe\">\n",
       "  <thead>\n",
       "    <tr style=\"text-align: right;\">\n",
       "      <th></th>\n",
       "      <th>Gender</th>\n",
       "      <th>Age</th>\n",
       "      <th>Schooling</th>\n",
       "      <th>Breastfeeding</th>\n",
       "      <th>Varicella</th>\n",
       "      <th>Initial_Symptom</th>\n",
       "      <th>Mono_or_Polysymptomatic</th>\n",
       "      <th>Oligoclonal_Bands</th>\n",
       "      <th>LLSSEP</th>\n",
       "      <th>ULSSEP</th>\n",
       "      <th>VEP</th>\n",
       "      <th>BAEP</th>\n",
       "      <th>Periventricular_MRI</th>\n",
       "      <th>Cortical_MRI</th>\n",
       "      <th>Infratentorial_MRI</th>\n",
       "      <th>Spinal_Cord_MRI</th>\n",
       "      <th>Initial_EDSS</th>\n",
       "      <th>Final_EDSS</th>\n",
       "      <th>group</th>\n",
       "    </tr>\n",
       "  </thead>\n",
       "  <tbody>\n",
       "    <tr>\n",
       "      <th>238</th>\n",
       "      <td>2</td>\n",
       "      <td>18</td>\n",
       "      <td>12.0</td>\n",
       "      <td>3</td>\n",
       "      <td>3</td>\n",
       "      <td>NaN</td>\n",
       "      <td>3</td>\n",
       "      <td>2</td>\n",
       "      <td>0</td>\n",
       "      <td>0</td>\n",
       "      <td>0</td>\n",
       "      <td>0</td>\n",
       "      <td>0</td>\n",
       "      <td>0</td>\n",
       "      <td>0</td>\n",
       "      <td>0</td>\n",
       "      <td>NaN</td>\n",
       "      <td>NaN</td>\n",
       "      <td>2</td>\n",
       "    </tr>\n",
       "  </tbody>\n",
       "</table>\n",
       "</div>"
      ],
      "text/plain": [
       "     Gender  Age  Schooling  Breastfeeding  Varicella  Initial_Symptom  \\\n",
       "238       2   18       12.0              3          3              NaN   \n",
       "\n",
       "     Mono_or_Polysymptomatic  Oligoclonal_Bands  LLSSEP  ULSSEP  VEP  BAEP  \\\n",
       "238                        3                  2       0       0    0     0   \n",
       "\n",
       "     Periventricular_MRI  Cortical_MRI  Infratentorial_MRI  Spinal_Cord_MRI  \\\n",
       "238                    0             0                   0                0   \n",
       "\n",
       "     Initial_EDSS  Final_EDSS  group  \n",
       "238           NaN         NaN      2  "
      ]
     },
     "execution_count": 15,
     "metadata": {},
     "output_type": "execute_result"
    }
   ],
   "source": [
    "initial_symptom = missing_values(df, 'Initial_Symptom')\n",
    "initial_symptom"
   ]
  },
  {
   "cell_type": "code",
   "execution_count": 16,
   "id": "607455fb",
   "metadata": {},
   "outputs": [],
   "source": [
    "# dropping the row with index 238\n",
    "index_to_remove = 238\n",
    "df = df.drop(index_to_remove)"
   ]
  },
  {
   "cell_type": "code",
   "execution_count": 17,
   "id": "37f22a6c",
   "metadata": {
    "scrolled": false
   },
   "outputs": [
    {
     "data": {
      "text/plain": [
       "(272, 19)"
      ]
     },
     "execution_count": 17,
     "metadata": {},
     "output_type": "execute_result"
    }
   ],
   "source": [
    "df.shape"
   ]
  },
  {
   "cell_type": "markdown",
   "id": "ad0f9140",
   "metadata": {},
   "source": [
    "**4) Initial, Final_EDSS**"
   ]
  },
  {
   "cell_type": "code",
   "execution_count": 18,
   "id": "6ab74854",
   "metadata": {},
   "outputs": [
    {
     "data": {
      "text/html": [
       "<div>\n",
       "<style scoped>\n",
       "    .dataframe tbody tr th:only-of-type {\n",
       "        vertical-align: middle;\n",
       "    }\n",
       "\n",
       "    .dataframe tbody tr th {\n",
       "        vertical-align: top;\n",
       "    }\n",
       "\n",
       "    .dataframe thead th {\n",
       "        text-align: right;\n",
       "    }\n",
       "</style>\n",
       "<table border=\"1\" class=\"dataframe\">\n",
       "  <thead>\n",
       "    <tr style=\"text-align: right;\">\n",
       "      <th></th>\n",
       "      <th>Gender</th>\n",
       "      <th>Age</th>\n",
       "      <th>Schooling</th>\n",
       "      <th>Breastfeeding</th>\n",
       "      <th>Varicella</th>\n",
       "      <th>Initial_Symptom</th>\n",
       "      <th>Mono_or_Polysymptomatic</th>\n",
       "      <th>Oligoclonal_Bands</th>\n",
       "      <th>LLSSEP</th>\n",
       "      <th>ULSSEP</th>\n",
       "      <th>VEP</th>\n",
       "      <th>BAEP</th>\n",
       "      <th>Periventricular_MRI</th>\n",
       "      <th>Cortical_MRI</th>\n",
       "      <th>Infratentorial_MRI</th>\n",
       "      <th>Spinal_Cord_MRI</th>\n",
       "      <th>Initial_EDSS</th>\n",
       "      <th>Final_EDSS</th>\n",
       "      <th>group</th>\n",
       "    </tr>\n",
       "  </thead>\n",
       "  <tbody>\n",
       "    <tr>\n",
       "      <th>125</th>\n",
       "      <td>2</td>\n",
       "      <td>36</td>\n",
       "      <td>9.0</td>\n",
       "      <td>1</td>\n",
       "      <td>1</td>\n",
       "      <td>1.0</td>\n",
       "      <td>1</td>\n",
       "      <td>1</td>\n",
       "      <td>0</td>\n",
       "      <td>0</td>\n",
       "      <td>0</td>\n",
       "      <td>0</td>\n",
       "      <td>1</td>\n",
       "      <td>1</td>\n",
       "      <td>0</td>\n",
       "      <td>0</td>\n",
       "      <td>NaN</td>\n",
       "      <td>NaN</td>\n",
       "      <td>2</td>\n",
       "    </tr>\n",
       "    <tr>\n",
       "      <th>126</th>\n",
       "      <td>1</td>\n",
       "      <td>35</td>\n",
       "      <td>9.0</td>\n",
       "      <td>2</td>\n",
       "      <td>3</td>\n",
       "      <td>10.0</td>\n",
       "      <td>2</td>\n",
       "      <td>0</td>\n",
       "      <td>0</td>\n",
       "      <td>1</td>\n",
       "      <td>1</td>\n",
       "      <td>0</td>\n",
       "      <td>0</td>\n",
       "      <td>0</td>\n",
       "      <td>0</td>\n",
       "      <td>0</td>\n",
       "      <td>NaN</td>\n",
       "      <td>NaN</td>\n",
       "      <td>2</td>\n",
       "    </tr>\n",
       "    <tr>\n",
       "      <th>127</th>\n",
       "      <td>2</td>\n",
       "      <td>36</td>\n",
       "      <td>15.0</td>\n",
       "      <td>2</td>\n",
       "      <td>1</td>\n",
       "      <td>1.0</td>\n",
       "      <td>2</td>\n",
       "      <td>0</td>\n",
       "      <td>0</td>\n",
       "      <td>0</td>\n",
       "      <td>1</td>\n",
       "      <td>0</td>\n",
       "      <td>0</td>\n",
       "      <td>0</td>\n",
       "      <td>1</td>\n",
       "      <td>0</td>\n",
       "      <td>NaN</td>\n",
       "      <td>NaN</td>\n",
       "      <td>2</td>\n",
       "    </tr>\n",
       "    <tr>\n",
       "      <th>128</th>\n",
       "      <td>2</td>\n",
       "      <td>59</td>\n",
       "      <td>12.0</td>\n",
       "      <td>1</td>\n",
       "      <td>1</td>\n",
       "      <td>8.0</td>\n",
       "      <td>1</td>\n",
       "      <td>0</td>\n",
       "      <td>1</td>\n",
       "      <td>1</td>\n",
       "      <td>0</td>\n",
       "      <td>1</td>\n",
       "      <td>0</td>\n",
       "      <td>1</td>\n",
       "      <td>1</td>\n",
       "      <td>1</td>\n",
       "      <td>NaN</td>\n",
       "      <td>NaN</td>\n",
       "      <td>2</td>\n",
       "    </tr>\n",
       "    <tr>\n",
       "      <th>129</th>\n",
       "      <td>1</td>\n",
       "      <td>25</td>\n",
       "      <td>12.0</td>\n",
       "      <td>2</td>\n",
       "      <td>2</td>\n",
       "      <td>3.0</td>\n",
       "      <td>2</td>\n",
       "      <td>0</td>\n",
       "      <td>1</td>\n",
       "      <td>1</td>\n",
       "      <td>1</td>\n",
       "      <td>0</td>\n",
       "      <td>1</td>\n",
       "      <td>1</td>\n",
       "      <td>0</td>\n",
       "      <td>0</td>\n",
       "      <td>NaN</td>\n",
       "      <td>NaN</td>\n",
       "      <td>2</td>\n",
       "    </tr>\n",
       "    <tr>\n",
       "      <th>...</th>\n",
       "      <td>...</td>\n",
       "      <td>...</td>\n",
       "      <td>...</td>\n",
       "      <td>...</td>\n",
       "      <td>...</td>\n",
       "      <td>...</td>\n",
       "      <td>...</td>\n",
       "      <td>...</td>\n",
       "      <td>...</td>\n",
       "      <td>...</td>\n",
       "      <td>...</td>\n",
       "      <td>...</td>\n",
       "      <td>...</td>\n",
       "      <td>...</td>\n",
       "      <td>...</td>\n",
       "      <td>...</td>\n",
       "      <td>...</td>\n",
       "      <td>...</td>\n",
       "      <td>...</td>\n",
       "    </tr>\n",
       "    <tr>\n",
       "      <th>268</th>\n",
       "      <td>2</td>\n",
       "      <td>31</td>\n",
       "      <td>8.0</td>\n",
       "      <td>3</td>\n",
       "      <td>1</td>\n",
       "      <td>9.0</td>\n",
       "      <td>2</td>\n",
       "      <td>0</td>\n",
       "      <td>0</td>\n",
       "      <td>0</td>\n",
       "      <td>0</td>\n",
       "      <td>0</td>\n",
       "      <td>0</td>\n",
       "      <td>0</td>\n",
       "      <td>0</td>\n",
       "      <td>0</td>\n",
       "      <td>NaN</td>\n",
       "      <td>NaN</td>\n",
       "      <td>2</td>\n",
       "    </tr>\n",
       "    <tr>\n",
       "      <th>269</th>\n",
       "      <td>1</td>\n",
       "      <td>21</td>\n",
       "      <td>15.0</td>\n",
       "      <td>3</td>\n",
       "      <td>3</td>\n",
       "      <td>5.0</td>\n",
       "      <td>2</td>\n",
       "      <td>1</td>\n",
       "      <td>0</td>\n",
       "      <td>0</td>\n",
       "      <td>0</td>\n",
       "      <td>0</td>\n",
       "      <td>0</td>\n",
       "      <td>0</td>\n",
       "      <td>0</td>\n",
       "      <td>1</td>\n",
       "      <td>NaN</td>\n",
       "      <td>NaN</td>\n",
       "      <td>2</td>\n",
       "    </tr>\n",
       "    <tr>\n",
       "      <th>270</th>\n",
       "      <td>2</td>\n",
       "      <td>19</td>\n",
       "      <td>12.0</td>\n",
       "      <td>3</td>\n",
       "      <td>3</td>\n",
       "      <td>13.0</td>\n",
       "      <td>2</td>\n",
       "      <td>0</td>\n",
       "      <td>1</td>\n",
       "      <td>1</td>\n",
       "      <td>1</td>\n",
       "      <td>0</td>\n",
       "      <td>0</td>\n",
       "      <td>0</td>\n",
       "      <td>0</td>\n",
       "      <td>1</td>\n",
       "      <td>NaN</td>\n",
       "      <td>NaN</td>\n",
       "      <td>2</td>\n",
       "    </tr>\n",
       "    <tr>\n",
       "      <th>271</th>\n",
       "      <td>2</td>\n",
       "      <td>32</td>\n",
       "      <td>15.0</td>\n",
       "      <td>3</td>\n",
       "      <td>3</td>\n",
       "      <td>15.0</td>\n",
       "      <td>2</td>\n",
       "      <td>1</td>\n",
       "      <td>1</td>\n",
       "      <td>1</td>\n",
       "      <td>1</td>\n",
       "      <td>0</td>\n",
       "      <td>1</td>\n",
       "      <td>1</td>\n",
       "      <td>1</td>\n",
       "      <td>0</td>\n",
       "      <td>NaN</td>\n",
       "      <td>NaN</td>\n",
       "      <td>2</td>\n",
       "    </tr>\n",
       "    <tr>\n",
       "      <th>272</th>\n",
       "      <td>2</td>\n",
       "      <td>77</td>\n",
       "      <td>6.0</td>\n",
       "      <td>3</td>\n",
       "      <td>3</td>\n",
       "      <td>2.0</td>\n",
       "      <td>1</td>\n",
       "      <td>0</td>\n",
       "      <td>0</td>\n",
       "      <td>1</td>\n",
       "      <td>0</td>\n",
       "      <td>0</td>\n",
       "      <td>0</td>\n",
       "      <td>0</td>\n",
       "      <td>0</td>\n",
       "      <td>0</td>\n",
       "      <td>NaN</td>\n",
       "      <td>NaN</td>\n",
       "      <td>2</td>\n",
       "    </tr>\n",
       "  </tbody>\n",
       "</table>\n",
       "<p>147 rows × 19 columns</p>\n",
       "</div>"
      ],
      "text/plain": [
       "     Gender  Age  Schooling  Breastfeeding  Varicella  Initial_Symptom  \\\n",
       "125       2   36        9.0              1          1              1.0   \n",
       "126       1   35        9.0              2          3             10.0   \n",
       "127       2   36       15.0              2          1              1.0   \n",
       "128       2   59       12.0              1          1              8.0   \n",
       "129       1   25       12.0              2          2              3.0   \n",
       "..      ...  ...        ...            ...        ...              ...   \n",
       "268       2   31        8.0              3          1              9.0   \n",
       "269       1   21       15.0              3          3              5.0   \n",
       "270       2   19       12.0              3          3             13.0   \n",
       "271       2   32       15.0              3          3             15.0   \n",
       "272       2   77        6.0              3          3              2.0   \n",
       "\n",
       "     Mono_or_Polysymptomatic  Oligoclonal_Bands  LLSSEP  ULSSEP  VEP  BAEP  \\\n",
       "125                        1                  1       0       0    0     0   \n",
       "126                        2                  0       0       1    1     0   \n",
       "127                        2                  0       0       0    1     0   \n",
       "128                        1                  0       1       1    0     1   \n",
       "129                        2                  0       1       1    1     0   \n",
       "..                       ...                ...     ...     ...  ...   ...   \n",
       "268                        2                  0       0       0    0     0   \n",
       "269                        2                  1       0       0    0     0   \n",
       "270                        2                  0       1       1    1     0   \n",
       "271                        2                  1       1       1    1     0   \n",
       "272                        1                  0       0       1    0     0   \n",
       "\n",
       "     Periventricular_MRI  Cortical_MRI  Infratentorial_MRI  Spinal_Cord_MRI  \\\n",
       "125                    1             1                   0                0   \n",
       "126                    0             0                   0                0   \n",
       "127                    0             0                   1                0   \n",
       "128                    0             1                   1                1   \n",
       "129                    1             1                   0                0   \n",
       "..                   ...           ...                 ...              ...   \n",
       "268                    0             0                   0                0   \n",
       "269                    0             0                   0                1   \n",
       "270                    0             0                   0                1   \n",
       "271                    1             1                   1                0   \n",
       "272                    0             0                   0                0   \n",
       "\n",
       "     Initial_EDSS  Final_EDSS  group  \n",
       "125           NaN         NaN      2  \n",
       "126           NaN         NaN      2  \n",
       "127           NaN         NaN      2  \n",
       "128           NaN         NaN      2  \n",
       "129           NaN         NaN      2  \n",
       "..            ...         ...    ...  \n",
       "268           NaN         NaN      2  \n",
       "269           NaN         NaN      2  \n",
       "270           NaN         NaN      2  \n",
       "271           NaN         NaN      2  \n",
       "272           NaN         NaN      2  \n",
       "\n",
       "[147 rows x 19 columns]"
      ]
     },
     "execution_count": 18,
     "metadata": {},
     "output_type": "execute_result"
    }
   ],
   "source": [
    "final_edss = missing_values(df, 'Final_EDSS')\n",
    "final_edss"
   ]
  },
  {
   "cell_type": "code",
   "execution_count": 19,
   "id": "230a1734",
   "metadata": {},
   "outputs": [],
   "source": [
    "# dropping both the rows as it doesn't provide any information for the purpose of classification\n",
    "cols = ['Initial_EDSS', 'Final_EDSS']\n",
    "df = df.drop(columns=cols)"
   ]
  },
  {
   "cell_type": "code",
   "execution_count": 20,
   "id": "4fb2061b",
   "metadata": {},
   "outputs": [
    {
     "data": {
      "text/plain": [
       "Index(['Gender', 'Age', 'Schooling', 'Breastfeeding', 'Varicella',\n",
       "       'Initial_Symptom', 'Mono_or_Polysymptomatic', 'Oligoclonal_Bands',\n",
       "       'LLSSEP', 'ULSSEP', 'VEP', 'BAEP', 'Periventricular_MRI',\n",
       "       'Cortical_MRI', 'Infratentorial_MRI', 'Spinal_Cord_MRI', 'group'],\n",
       "      dtype='object')"
      ]
     },
     "execution_count": 20,
     "metadata": {},
     "output_type": "execute_result"
    }
   ],
   "source": [
    "df.columns"
   ]
  },
  {
   "cell_type": "markdown",
   "id": "21ad7063",
   "metadata": {},
   "source": [
    "### Datatype Formatting"
   ]
  },
  {
   "cell_type": "markdown",
   "id": "25121b61",
   "metadata": {},
   "source": [
    "**1) to integer**"
   ]
  },
  {
   "cell_type": "code",
   "execution_count": 21,
   "id": "0a8cc469",
   "metadata": {},
   "outputs": [],
   "source": [
    "cols = ['Schooling','Initial_Symptom']\n",
    "for column_name in cols:\n",
    "    df[column_name] = df[column_name].astype('int64')"
   ]
  },
  {
   "cell_type": "code",
   "execution_count": 22,
   "id": "2889913a",
   "metadata": {},
   "outputs": [
    {
     "data": {
      "text/plain": [
       "Schooling          int64\n",
       "Initial_Symptom    int64\n",
       "dtype: object"
      ]
     },
     "execution_count": 22,
     "metadata": {},
     "output_type": "execute_result"
    }
   ],
   "source": [
    "df[cols].dtypes"
   ]
  },
  {
   "cell_type": "markdown",
   "id": "d3f6309f",
   "metadata": {},
   "source": [
    "**2) to categorical** "
   ]
  },
  {
   "cell_type": "code",
   "execution_count": 23,
   "id": "1ecab917",
   "metadata": {},
   "outputs": [],
   "source": [
    "cols_obj = ['Gender','Breastfeeding','Varicella','Mono_or_Polysymptomatic','Oligoclonal_Bands','LLSSEP','ULSSEP','VEP',\n",
    "       'BAEP','Periventricular_MRI','Cortical_MRI','Infratentorial_MRI','Spinal_Cord_MRI','group']\n",
    "for column_name in cols_obj:\n",
    "    df[column_name] = df[column_name].astype('object')"
   ]
  },
  {
   "cell_type": "markdown",
   "id": "af81dc99",
   "metadata": {},
   "source": [
    "**3) Datatypes**"
   ]
  },
  {
   "cell_type": "code",
   "execution_count": 24,
   "id": "fe4006c6",
   "metadata": {
    "scrolled": false
   },
   "outputs": [
    {
     "name": "stdout",
     "output_type": "stream",
     "text": [
      "<class 'pandas.core.frame.DataFrame'>\n",
      "Int64Index: 272 entries, 0 to 272\n",
      "Data columns (total 17 columns):\n",
      " #   Column                   Non-Null Count  Dtype \n",
      "---  ------                   --------------  ----- \n",
      " 0   Gender                   272 non-null    object\n",
      " 1   Age                      272 non-null    int64 \n",
      " 2   Schooling                272 non-null    int64 \n",
      " 3   Breastfeeding            272 non-null    object\n",
      " 4   Varicella                272 non-null    object\n",
      " 5   Initial_Symptom          272 non-null    int64 \n",
      " 6   Mono_or_Polysymptomatic  272 non-null    object\n",
      " 7   Oligoclonal_Bands        272 non-null    object\n",
      " 8   LLSSEP                   272 non-null    object\n",
      " 9   ULSSEP                   272 non-null    object\n",
      " 10  VEP                      272 non-null    object\n",
      " 11  BAEP                     272 non-null    object\n",
      " 12  Periventricular_MRI      272 non-null    object\n",
      " 13  Cortical_MRI             272 non-null    object\n",
      " 14  Infratentorial_MRI       272 non-null    object\n",
      " 15  Spinal_Cord_MRI          272 non-null    object\n",
      " 16  group                    272 non-null    object\n",
      "dtypes: int64(3), object(14)\n",
      "memory usage: 38.2+ KB\n"
     ]
    }
   ],
   "source": [
    "df.info()"
   ]
  },
  {
   "cell_type": "markdown",
   "id": "04502ed3",
   "metadata": {},
   "source": [
    "### Column Formatting"
   ]
  },
  {
   "cell_type": "code",
   "execution_count": 25,
   "id": "50465eda",
   "metadata": {},
   "outputs": [],
   "source": [
    "df = df.rename(columns={'group': 'GROUP'})"
   ]
  },
  {
   "cell_type": "code",
   "execution_count": 26,
   "id": "76c0f5d5",
   "metadata": {
    "scrolled": true
   },
   "outputs": [
    {
     "data": {
      "text/plain": [
       "Index(['Gender', 'Age', 'Schooling', 'Breastfeeding', 'Varicella',\n",
       "       'Initial_Symptom', 'Mono_or_Polysymptomatic', 'Oligoclonal_Bands',\n",
       "       'LLSSEP', 'ULSSEP', 'VEP', 'BAEP', 'Periventricular_MRI',\n",
       "       'Cortical_MRI', 'Infratentorial_MRI', 'Spinal_Cord_MRI', 'GROUP'],\n",
       "      dtype='object')"
      ]
     },
     "execution_count": 26,
     "metadata": {},
     "output_type": "execute_result"
    }
   ],
   "source": [
    "df.columns"
   ]
  },
  {
   "cell_type": "code",
   "execution_count": 27,
   "id": "4fea6acb",
   "metadata": {},
   "outputs": [
    {
     "data": {
      "text/html": [
       "<div>\n",
       "<style scoped>\n",
       "    .dataframe tbody tr th:only-of-type {\n",
       "        vertical-align: middle;\n",
       "    }\n",
       "\n",
       "    .dataframe tbody tr th {\n",
       "        vertical-align: top;\n",
       "    }\n",
       "\n",
       "    .dataframe thead th {\n",
       "        text-align: right;\n",
       "    }\n",
       "</style>\n",
       "<table border=\"1\" class=\"dataframe\">\n",
       "  <thead>\n",
       "    <tr style=\"text-align: right;\">\n",
       "      <th></th>\n",
       "      <th>Gender</th>\n",
       "      <th>Age</th>\n",
       "      <th>Schooling</th>\n",
       "      <th>Breastfeeding</th>\n",
       "      <th>Varicella</th>\n",
       "      <th>Initial_Symptom</th>\n",
       "      <th>Mono_or_Polysymptomatic</th>\n",
       "      <th>Oligoclonal_Bands</th>\n",
       "      <th>LLSSEP</th>\n",
       "      <th>ULSSEP</th>\n",
       "      <th>VEP</th>\n",
       "      <th>BAEP</th>\n",
       "      <th>Periventricular_MRI</th>\n",
       "      <th>Cortical_MRI</th>\n",
       "      <th>Infratentorial_MRI</th>\n",
       "      <th>Spinal_Cord_MRI</th>\n",
       "      <th>GROUP</th>\n",
       "    </tr>\n",
       "  </thead>\n",
       "  <tbody>\n",
       "    <tr>\n",
       "      <th>0</th>\n",
       "      <td>1</td>\n",
       "      <td>34</td>\n",
       "      <td>20</td>\n",
       "      <td>1</td>\n",
       "      <td>1</td>\n",
       "      <td>2</td>\n",
       "      <td>1</td>\n",
       "      <td>0</td>\n",
       "      <td>1</td>\n",
       "      <td>1</td>\n",
       "      <td>0</td>\n",
       "      <td>0</td>\n",
       "      <td>0</td>\n",
       "      <td>1</td>\n",
       "      <td>0</td>\n",
       "      <td>1</td>\n",
       "      <td>1</td>\n",
       "    </tr>\n",
       "    <tr>\n",
       "      <th>1</th>\n",
       "      <td>1</td>\n",
       "      <td>61</td>\n",
       "      <td>25</td>\n",
       "      <td>3</td>\n",
       "      <td>2</td>\n",
       "      <td>10</td>\n",
       "      <td>2</td>\n",
       "      <td>1</td>\n",
       "      <td>1</td>\n",
       "      <td>0</td>\n",
       "      <td>1</td>\n",
       "      <td>0</td>\n",
       "      <td>0</td>\n",
       "      <td>0</td>\n",
       "      <td>0</td>\n",
       "      <td>1</td>\n",
       "      <td>1</td>\n",
       "    </tr>\n",
       "    <tr>\n",
       "      <th>2</th>\n",
       "      <td>1</td>\n",
       "      <td>22</td>\n",
       "      <td>20</td>\n",
       "      <td>3</td>\n",
       "      <td>1</td>\n",
       "      <td>3</td>\n",
       "      <td>1</td>\n",
       "      <td>1</td>\n",
       "      <td>0</td>\n",
       "      <td>0</td>\n",
       "      <td>0</td>\n",
       "      <td>0</td>\n",
       "      <td>0</td>\n",
       "      <td>1</td>\n",
       "      <td>0</td>\n",
       "      <td>0</td>\n",
       "      <td>1</td>\n",
       "    </tr>\n",
       "    <tr>\n",
       "      <th>3</th>\n",
       "      <td>2</td>\n",
       "      <td>41</td>\n",
       "      <td>15</td>\n",
       "      <td>1</td>\n",
       "      <td>1</td>\n",
       "      <td>7</td>\n",
       "      <td>2</td>\n",
       "      <td>1</td>\n",
       "      <td>0</td>\n",
       "      <td>1</td>\n",
       "      <td>1</td>\n",
       "      <td>0</td>\n",
       "      <td>1</td>\n",
       "      <td>1</td>\n",
       "      <td>0</td>\n",
       "      <td>0</td>\n",
       "      <td>1</td>\n",
       "    </tr>\n",
       "    <tr>\n",
       "      <th>4</th>\n",
       "      <td>2</td>\n",
       "      <td>34</td>\n",
       "      <td>20</td>\n",
       "      <td>2</td>\n",
       "      <td>1</td>\n",
       "      <td>6</td>\n",
       "      <td>2</td>\n",
       "      <td>0</td>\n",
       "      <td>1</td>\n",
       "      <td>0</td>\n",
       "      <td>0</td>\n",
       "      <td>0</td>\n",
       "      <td>1</td>\n",
       "      <td>0</td>\n",
       "      <td>0</td>\n",
       "      <td>0</td>\n",
       "      <td>1</td>\n",
       "    </tr>\n",
       "  </tbody>\n",
       "</table>\n",
       "</div>"
      ],
      "text/plain": [
       "  Gender  Age  Schooling Breastfeeding Varicella  Initial_Symptom  \\\n",
       "0      1   34         20             1         1                2   \n",
       "1      1   61         25             3         2               10   \n",
       "2      1   22         20             3         1                3   \n",
       "3      2   41         15             1         1                7   \n",
       "4      2   34         20             2         1                6   \n",
       "\n",
       "  Mono_or_Polysymptomatic Oligoclonal_Bands LLSSEP ULSSEP VEP BAEP  \\\n",
       "0                       1                 0      1      1   0    0   \n",
       "1                       2                 1      1      0   1    0   \n",
       "2                       1                 1      0      0   0    0   \n",
       "3                       2                 1      0      1   1    0   \n",
       "4                       2                 0      1      0   0    0   \n",
       "\n",
       "  Periventricular_MRI Cortical_MRI Infratentorial_MRI Spinal_Cord_MRI GROUP  \n",
       "0                   0            1                  0               1     1  \n",
       "1                   0            0                  0               1     1  \n",
       "2                   0            1                  0               0     1  \n",
       "3                   1            1                  0               0     1  \n",
       "4                   1            0                  0               0     1  "
      ]
     },
     "execution_count": 27,
     "metadata": {},
     "output_type": "execute_result"
    }
   ],
   "source": [
    "df.head()"
   ]
  },
  {
   "cell_type": "markdown",
   "id": "113976b4",
   "metadata": {},
   "source": [
    "### Visualization"
   ]
  },
  {
   "cell_type": "markdown",
   "id": "eff5c7ca",
   "metadata": {},
   "source": [
    "**1) Visualizing Age Distribution by Gender**"
   ]
  },
  {
   "cell_type": "code",
   "execution_count": 28,
   "id": "28b2e3ff",
   "metadata": {},
   "outputs": [
    {
     "data": {
      "image/png": "[encoded data removed]",
      "text/plain": [
       "<Figure size 1000x600 with 1 Axes>"
      ]
     },
     "metadata": {},
     "output_type": "display_data"
    }
   ],
   "source": [
    "plt.figure(figsize=(10, 6))\n",
    "sns.violinplot(x='Gender', y='Age', data=df, palette='Set2', inner='quart', cut=0)\n",
    "plt.xlabel('Gender')\n",
    "plt.ylabel('Age')\n",
    "plt.title('Distribution of Ages by Gender');"
   ]
  },
  {
   "cell_type": "markdown",
   "id": "007b81f8",
   "metadata": {},
   "source": [
    "**OBSERVATIONS**"
   ]
  },
  {
   "cell_type": "markdown",
   "id": "0ed00ccb",
   "metadata": {},
   "source": [
    "**Gender Differences in Age**:\n",
    "\n",
    "- For both males and females, the median age is in the early to mid-30s, with males having a slightly lower median age (around 33) compared to females (around 35). This suggests that the central tendency of age is similar for both genders, but females tend to be slightly older on average.<br><br>\n",
    "\n",
    "- The lower quartile (25th percentile) age for males is around 24, while for females, it is around 27. This indicates that a quarter of the male population falls below the age of 24, whereas for females, the corresponding age is higher at 27. Therefore, there is a younger age group among males.<br><br>\n",
    "   \n",
    "- The upper quartile (75th percentile) age for both males and females is similar, with males at around 40 and females at around 41. This suggests that the upper age limit for a quarter of the population is approximately the same for both genders.<br><br>\n",
    "\n",
    "**Age Spread**:\n",
    "\n",
    "- For both males and females, the distribution appears somewhat symmetric which indicated that there is less variation in ages among the population.\n",
    "\n",
    "- The violin plot does not show any significant skewness in age distribution for either gender, as both sides of the plot are relatively symmetrical.\n",
    "\n",
    "**Overlap**:\n",
    "\n",
    "- There is some overlap in the age distribution between males and females, especially in the central region. This means that there are individuals of similar ages in both gender groups.\n"
   ]
  },
  {
   "cell_type": "markdown",
   "id": "f94b3eb7",
   "metadata": {},
   "source": [
    "**2) Distribution for checking the Gender balance and the prevalence of breastfeeding and varicella among the patients.**"
   ]
  },
  {
   "cell_type": "code",
   "execution_count": 29,
   "id": "c09ccdb5",
   "metadata": {},
   "outputs": [
    {
     "data": {
      "image/png": "[encoded data removed]",
      "text/plain": [
       "<Figure size 1500x500 with 3 Axes>"
      ]
     },
     "metadata": {},
     "output_type": "display_data"
    }
   ],
   "source": [
    "fig, axes = plt.subplots(1, 3, figsize=(15, 5))\n",
    "\n",
    "gender_counts = df['Gender'].value_counts()\n",
    "\n",
    "bar_color = 'lightblue'\n",
    "\n",
    "axes[0].bar(gender_counts.index, gender_counts.values,color=bar_color)\n",
    "axes[0].set_title('Gender')\n",
    "axes[0].set_xticks(gender_counts.index)\n",
    "axes[0].set_xticklabels(['Male', 'Female'])\n",
    "axes[0].set_xlabel('Gender')\n",
    "axes[0].set_ylabel('Count')\n",
    "\n",
    "breastfeeding_counts = df['Breastfeeding'].value_counts()\n",
    "axes[1].bar(breastfeeding_counts.index, breastfeeding_counts.values,color=bar_color)\n",
    "axes[1].set_title('Breastfeeding')\n",
    "axes[1].set_xticks(breastfeeding_counts.index)\n",
    "axes[1].set_xticklabels(['Yes', 'No', 'Unknown'])\n",
    "axes[1].set_xlabel('Breastfeeding')\n",
    "axes[1].set_ylabel('Count')\n",
    "\n",
    "varicella_counts = df['Varicella'].value_counts()\n",
    "axes[2].bar(varicella_counts.index, varicella_counts.values,color=bar_color)\n",
    "axes[2].set_title('Varicella')\n",
    "axes[2].set_xticks(varicella_counts.index)\n",
    "axes[2].set_xticklabels(['Positive', 'Negative', 'Unknown'])\n",
    "axes[2].set_xlabel('Varicella')\n",
    "axes[2].set_ylabel('Count')\n",
    "\n",
    "plt.tight_layout();"
   ]
  },
  {
   "cell_type": "markdown",
   "id": "438cd423",
   "metadata": {},
   "source": [
    "**OBSERVATIONS**"
   ]
  },
  {
   "cell_type": "markdown",
   "id": "c9b13652",
   "metadata": {},
   "source": [
    "**Gender Distribution:**\n",
    "- There are a total of 272 patients in the dataset.\n",
    "- Gender-wise, there are more male patients in the data\n",
    "\n",
    "**Breastfeeding Status Distribution:**\n",
    "- Most patients have a \"Yes\" status for breastfeeding, with 130 individuals.\n",
    "- A significant portion of patients have a positive response to breastfeeding, while a smaller portion answered \"No,\" and some have an \"Unknown\" status.\n",
    "\n",
    "**Varicella Status:**\n",
    "- The majority of patients have a \"Positive\" varicella status, with 125 individuals.\n",
    "- Varicella-positive cases are more common in the dataset, followed by varicella-negative cases, with a smaller number having an unknown status.\n",
    "\n",
    "These inferences provide an initial understanding of the distribution of categorical variables within the dataset.\n"
   ]
  },
  {
   "cell_type": "markdown",
   "id": "f3015ecb",
   "metadata": {},
   "source": [
    "**3) Count of each intial symptoms type (visual, sensory, motor, etc.) to understand which symptoms are most common among patients.**"
   ]
  },
  {
   "cell_type": "code",
   "execution_count": 30,
   "id": "48cc6e73",
   "metadata": {},
   "outputs": [
    {
     "data": {
      "image/png": "[encoded data removed]",
      "text/plain": [
       "<Figure size 900x480 with 1 Axes>"
      ]
     },
     "metadata": {},
     "output_type": "display_data"
    }
   ],
   "source": [
    "mapping = {\n",
    "    1: 'Visual',\n",
    "    2: 'Sensory',\n",
    "    3: 'Motor',\n",
    "    4: 'Other',\n",
    "    5: 'Visual and Sensory',\n",
    "    6: 'Visual and Motor',\n",
    "    7: 'Visual and Others',\n",
    "    8: 'Sensory and Motor',\n",
    "    9: 'Sensory and Other',\n",
    "    10: 'Motor and Other',\n",
    "    11: 'Visual, Sensory, and Motor',\n",
    "    12: 'Visual, Sensory, and Other',\n",
    "    13: 'Visual, Motor, and Other',\n",
    "    14: 'Sensory, Motor, and Other',\n",
    "    15: 'Visual, Sensory, Motor, and Other'\n",
    "}\n",
    "\n",
    "df['Initial_Symptom'] = df['Initial_Symptom'].map(mapping)\n",
    "\n",
    "top_5 = df['Initial_Symptom'].value_counts().head(5).index\n",
    "\n",
    "plt.figure(figsize=(9, 4.8))\n",
    "sns.countplot(data=df, y='Initial_Symptom', palette='hls', order=top_5,width = 0.7)\n",
    "plt.title('Most Common Initial Symptoms in Patients')\n",
    "plt.xlabel('')\n",
    "plt.ylabel('')\n",
    "plt.show()\n"
   ]
  },
  {
   "cell_type": "markdown",
   "id": "29268de9",
   "metadata": {},
   "source": [
    "**OBSERVATIONS**"
   ]
  },
  {
   "cell_type": "markdown",
   "id": "d5b96f06",
   "metadata": {},
   "source": [
    "**Sensory and Motor:**\n",
    "\n",
    "- This symptom combination has the highest count in the dataset that suggests that a significant number of patients in the dataset presented with both sensory and motor symptoms as their initial clinical presentation.\n",
    "\n",
    "**Motor:**\n",
    "\n",
    "- Motor symptoms, which involve issues with muscle control and movement, are also relatively common among the patients.\n",
    "\n",
    "**Visual:**\n",
    "\n",
    "- Visual symptoms can involve issues with vision, such as double vision or visual loss."
   ]
  },
  {
   "cell_type": "markdown",
   "id": "1b1c6272",
   "metadata": {},
   "source": [
    "The dataset predominantly consists of patients who experienced sensory and motor symptoms, followed by those with motor and visual symptoms."
   ]
  },
  {
   "cell_type": "markdown",
   "id": "8a2745ed",
   "metadata": {},
   "source": [
    "**4) To understand the if there are gender-related differences in symptom presentation.**"
   ]
  },
  {
   "cell_type": "markdown",
   "id": "b2bf1953",
   "metadata": {},
   "source": [
    "**ABOUT**"
   ]
  },
  {
   "cell_type": "markdown",
   "id": "bf7aa794",
   "metadata": {},
   "source": [
    "*In the study dataset, the column \"Mono _or_Polysymptomatic\" provides insights into the nature of the initial clinical presentation of patients with Clinically Isolated Syndrome (CIS) related to multiple sclerosis (MS). Understanding the distinction between \"Monosymptomatic\" and \"Polysymptomatic\" presentations is crucial for characterizing the diversity of CIS cases:*\n",
    "\n",
    "**Monosymptomatic Presentation:**\n",
    "\n",
    "- When a patient is described as having a \"Monosymptomatic\" CIS presentation, it means that the patient experienced a single neurological symptom or clinical manifestation during their initial episode. This single symptom can be related to various neurological functions, such as vision, sensation, motor control, or others.\n",
    "\n",
    "**Polysymptomatic Presentation:**\n",
    "\n",
    "- Conversely, a \"Polysymptomatic\" CIS presentation signifies that the patient exhibited multiple neurological symptoms or clinical manifestations simultaneously at the onset of the syndrome. These symptoms can encompass a range of neurological functions and may include a combination of visual disturbances, sensory issues, motor impairments, or other neurological challenges.\n",
    "\n",
    "\n",
    "The dataset allows us to explore how the nature of the initial presentation, whether monosymptomatic or polysymptomatic, may relate to the conversion of CIS to full-fledged multiple sclerosis (MS) or other relevant factors under investigation.\n"
   ]
  },
  {
   "cell_type": "code",
   "execution_count": 31,
   "id": "2700799e",
   "metadata": {},
   "outputs": [
    {
     "data": {
      "text/plain": [
       "(array([0, 1]), [Text(0, 0, '1'), Text(1, 0, '2')])"
      ]
     },
     "execution_count": 31,
     "metadata": {},
     "output_type": "execute_result"
    },
    {
     "data": {
      "image/png": "[encoded data removed]",
      "text/plain": [
       "<Figure size 1000x600 with 1 Axes>"
      ]
     },
     "metadata": {},
     "output_type": "display_data"
    }
   ],
   "source": [
    "mapping = {\n",
    "    1: 'Monosymptomatic',\n",
    "    2: 'Polysymptomatic',\n",
    "    3: 'Unknown'\n",
    "}\n",
    "\n",
    "df['Mono_or_Polysymptomatic'] = df['Mono_or_Polysymptomatic'].map(mapping)\n",
    "\n",
    "plt.figure(figsize=(10, 6))\n",
    "sns.countplot(data=df, x='Gender', hue='Mono_or_Polysymptomatic', palette='Set1')\n",
    "\n",
    "plt.title('Distribution of Mono vs Polysymptomatic Patients by Gender')\n",
    "plt.xlabel('Gender')\n",
    "plt.ylabel('Count')\n",
    "plt.legend(title='Mono/Poly Symptomatic')\n",
    "plt.xticks(rotation=0)\n"
   ]
  },
  {
   "cell_type": "markdown",
   "id": "2080b4ea",
   "metadata": {},
   "source": [
    "**OBSERVATIONS**"
   ]
  },
  {
   "cell_type": "markdown",
   "id": "af989bad",
   "metadata": {},
   "source": [
    "**Monosymptomatic Patients:**\n",
    "\n",
    "- *Female Dominance:* The chart shows a notable predominance of female patients among those with monosymptomatic presentations. Females account for a higher count of approximately 50 cases compared to around 30 cases in males.\n",
    "- *Gender Disparity:* This gender disparity suggests that women may be more likely to experience monosymptomatic initial presentations of Clinically Isolated Syndrome (CIS) related to multiple sclerosis (MS) in the studied population.\n",
    "\n",
    "\n",
    "**Polysymptomatic Patients:**\n",
    "- *Female Dominance:* Similar to monosymptomatic patients, the chart indicates significant female dominance among patients with polysymptomatic presentations. Female patients exhibit a higher count of approximately 115 cases, whereas males have around 70 cases.\n",
    "- *Gender Disparity Continues:* This continuation of gender disparity in the polysymptomatic group suggests that gender-related factors may play a role not only in the type of initial symptoms but also in the extent of symptom presentation.\n"
   ]
  },
  {
   "cell_type": "code",
   "execution_count": null,
   "id": "a1e35ff9",
   "metadata": {},
   "outputs": [],
   "source": []
  }
 ],
 "metadata": {
  "kernelspec": {
   "display_name": "Python 3 (ipykernel)",
   "language": "python",
   "name": "python3"
  },
  "language_info": {
   "codemirror_mode": {
    "name": "ipython",
    "version": 3
   },
   "file_extension": ".py",
   "mimetype": "text/x-python",
   "name": "python",
   "nbconvert_exporter": "python",
   "pygments_lexer": "ipython3",
   "version": "3.11.4"
  }
 },
 "nbformat": 4,
 "nbformat_minor": 5
}
